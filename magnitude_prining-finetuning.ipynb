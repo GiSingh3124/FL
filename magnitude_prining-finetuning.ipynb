{
 "cells": [
  {
   "cell_type": "code",
   "execution_count": 1,
   "metadata": {},
   "outputs": [],
   "source": [
    "# Input data files are available in the \"../input/\" directory.\n",
    "# For example, running this (by clicking run or pressing Shift+Enter) will list all files under the input directory\n",
    "\n",
    "import os\n",
    "for dirname, _, filenames in os.walk('/kaggle/input'):\n",
    "    for filename in filenames:\n",
    "        print(os.path.join(dirname, filename))\n",
    "\n",
    "# Any results you write to the current directory are saved as output.\n",
    "\n",
    "import pandas as pd\n",
    "\n",
    "import numpy as np\n",
    "\n",
    "from matplotlib import pyplot as plt\n",
    "%matplotlib inline\n",
    "\n",
    "from sklearn.model_selection import train_test_split\n",
    "from tensorflow.keras.datasets import fashion_mnist\n",
    "from tensorflow.keras.utils import to_categorical\n",
    "from tensorflow.keras.models import Sequential\n",
    "from tensorflow.keras.layers import Dense, Activation\n",
    "from tensorflow.keras.optimizers import Adam\n",
    "from tensorflow.keras.callbacks import ModelCheckpoint\n",
    "from tensorflow.keras.callbacks import ReduceLROnPlateau\n",
    "from tensorflow.keras.models import load_model\n",
    "import tensorflow as tf\n",
    "#from pypapi import events, papi_high as high"
   ]
  },
  {
   "cell_type": "code",
   "execution_count": 2,
   "metadata": {},
   "outputs": [],
   "source": [
    "((X_train, Y_train), (X_test, Y_test)) = fashion_mnist.load_data()"
   ]
  },
  {
   "cell_type": "code",
   "execution_count": 3,
   "metadata": {},
   "outputs": [
    {
     "data": {
      "text/plain": [
       "{0: 'T-shirt',\n",
       " 1: 'Trouser',\n",
       " 2: 'Pullover',\n",
       " 3: 'Dress',\n",
       " 4: 'Code',\n",
       " 5: 'Sandal',\n",
       " 6: 'Shirt',\n",
       " 7: 'Sneaker',\n",
       " 8: 'Bag',\n",
       " 9: 'Ankle Boot'}"
      ]
     },
     "execution_count": 3,
     "metadata": {},
     "output_type": "execute_result"
    }
   ],
   "source": [
    "class_labels = pd.Series(['T-shirt', 'Trouser', 'Pullover', 'Dress', 'Code', 'Sandal', 'Shirt', 'Sneaker', 'Bag', 'Ankle Boot'])\n",
    "labels_dict = class_labels.to_dict()\n",
    "labels_dict"
   ]
  },
  {
   "cell_type": "code",
   "execution_count": 4,
   "metadata": {},
   "outputs": [
    {
     "data": {
      "image/png": "[encoded data removed]",
      "text/plain": [
       "<Figure size 432x288 with 1 Axes>"
      ]
     },
     "metadata": {
      "needs_background": "light"
     },
     "output_type": "display_data"
    },
    {
     "data": {
      "image/png": "[encoded data removed]",
      "text/plain": [
       "<Figure size 432x288 with 1 Axes>"
      ]
     },
     "metadata": {
      "needs_background": "light"
     },
     "output_type": "display_data"
    },
    {
     "data": {
      "image/png": "[encoded data removed]",
      "text/plain": [
       "<Figure size 432x288 with 1 Axes>"
      ]
     },
     "metadata": {
      "needs_background": "light"
     },
     "output_type": "display_data"
    },
    {
     "data": {
      "image/png": "[encoded data removed]",
      "text/plain": [
       "<Figure size 432x288 with 1 Axes>"
      ]
     },
     "metadata": {
      "needs_background": "light"
     },
     "output_type": "display_data"
    },
    {
     "data": {
      "image/png": "[encoded data removed]",
      "text/plain": [
       "<Figure size 432x288 with 1 Axes>"
      ]
     },
     "metadata": {
      "needs_background": "light"
     },
     "output_type": "display_data"
    }
   ],
   "source": [
    "np.random.seed(40)\n",
    "for rand_num in np.random.randint(0, len(X_train), 5):\n",
    "    plt.figure()\n",
    "    plt.imshow(X_train[rand_num]), plt.axis('off')\n",
    "    plt.title(labels_dict[Y_train[rand_num]])"
   ]
  },
  {
   "cell_type": "code",
   "execution_count": 5,
   "metadata": {},
   "outputs": [],
   "source": [
    "X_train_reshaped = X_train.reshape(len(X_train), -1)   \n",
    "X_test_reshaped = X_test.reshape(len(X_test), -1)\n",
    "\n",
    "X_train_norm = X_train_reshaped/255            \n",
    "X_test_norm = X_test_reshaped/255"
   ]
  },
  {
   "cell_type": "code",
   "execution_count": 6,
   "metadata": {},
   "outputs": [
    {
     "name": "stdout",
     "output_type": "stream",
     "text": [
      "Number of input features (image pixels) :  784\n",
      "Number of target classes (fashion categories) :  10\n"
     ]
    }
   ],
   "source": [
    "n_features = X_train_norm.shape[1]\n",
    "n_classes =  len(class_labels)\n",
    "\n",
    "print('Number of input features (image pixels) : ', n_features)\n",
    "print('Number of target classes (fashion categories) : ', n_classes)"
   ]
  },
  {
   "cell_type": "code",
   "execution_count": 7,
   "metadata": {},
   "outputs": [],
   "source": [
    "Y_train_onehot = to_categorical(Y_train, num_classes = n_classes)\n",
    "Y_test_onehot = to_categorical(Y_test, num_classes = n_classes)"
   ]
  },
  {
   "cell_type": "code",
   "execution_count": 8,
   "metadata": {},
   "outputs": [
    {
     "name": "stdout",
     "output_type": "stream",
     "text": [
      "Shape of data used for training, and shape of training targets : \n",
      "  (60000, 28, 28) , (60000,)\n",
      "Shape of data used for validation, and shape of validation targets: \n",
      "  (10000, 784) , (10000, 10)\n"
     ]
    }
   ],
   "source": [
    "X_train_final, X_valid, Y_train_final, Y_valid = train_test_split(X_train_norm, Y_train_onehot, \n",
    "                                                                  test_size=0.16666)\n",
    "\n",
    "print('Shape of data used for training, and shape of training targets : \\n ', X_train.shape, ',', Y_train.shape)\n",
    "print('Shape of data used for validation, and shape of validation targets: \\n ', X_valid.shape, ',', Y_valid.shape)"
   ]
  },
  {
   "cell_type": "code",
   "execution_count": 9,
   "metadata": {},
   "outputs": [
    {
     "name": "stdout",
     "output_type": "stream",
     "text": [
      "Model: \"sequential\"\n",
      "_________________________________________________________________\n",
      "Layer (type)                 Output Shape              Param #   \n",
      "=================================================================\n",
      "dense (Dense)                (None, 1000)              784000    \n",
      "_________________________________________________________________\n",
      "dense_1 (Dense)              (None, 1000)              1000000   \n",
      "_________________________________________________________________\n",
      "dense_2 (Dense)              (None, 1000)              1000000   \n",
      "_________________________________________________________________\n",
      "dense_3 (Dense)              (None, 1000)              1000000   \n",
      "_________________________________________________________________\n",
      "dense_4 (Dense)              (None, 1000)              1000000   \n",
      "_________________________________________________________________\n",
      "dense_5 (Dense)              (None, 1000)              1000000   \n",
      "_________________________________________________________________\n",
      "dense_6 (Dense)              (None, 1000)              1000000   \n",
      "_________________________________________________________________\n",
      "dense_7 (Dense)              (None, 1000)              1000000   \n",
      "_________________________________________________________________\n",
      "dense_8 (Dense)              (None, 1000)              1000000   \n",
      "_________________________________________________________________\n",
      "dense_9 (Dense)              (None, 1000)              1000000   \n",
      "_________________________________________________________________\n",
      "dense_10 (Dense)             (None, 1000)              1000000   \n",
      "_________________________________________________________________\n",
      "dense_11 (Dense)             (None, 1000)              1000000   \n",
      "_________________________________________________________________\n",
      "dense_12 (Dense)             (None, 1000)              1000000   \n",
      "_________________________________________________________________\n",
      "dense_13 (Dense)             (None, 1000)              1000000   \n",
      "_________________________________________________________________\n",
      "dense_14 (Dense)             (None, 1000)              1000000   \n",
      "_________________________________________________________________\n",
      "dense_15 (Dense)             (None, 1000)              1000000   \n",
      "_________________________________________________________________\n",
      "dense_16 (Dense)             (None, 1000)              1000000   \n",
      "_________________________________________________________________\n",
      "dense_17 (Dense)             (None, 1000)              1000000   \n",
      "_________________________________________________________________\n",
      "dense_18 (Dense)             (None, 1000)              1000000   \n",
      "_________________________________________________________________\n",
      "dense_19 (Dense)             (None, 1000)              1000000   \n",
      "_________________________________________________________________\n",
      "dense_20 (Dense)             (None, 1000)              1000000   \n",
      "_________________________________________________________________\n",
      "dense_21 (Dense)             (None, 1000)              1000000   \n",
      "_________________________________________________________________\n",
      "dense_22 (Dense)             (None, 1000)              1000000   \n",
      "_________________________________________________________________\n",
      "dense_23 (Dense)             (None, 1000)              1000000   \n",
      "_________________________________________________________________\n",
      "dense_24 (Dense)             (None, 1000)              1000000   \n",
      "_________________________________________________________________\n",
      "dense_25 (Dense)             (None, 1000)              1000000   \n",
      "_________________________________________________________________\n",
      "dense_26 (Dense)             (None, 1000)              1000000   \n",
      "_________________________________________________________________\n",
      "dense_27 (Dense)             (None, 1000)              1000000   \n",
      "_________________________________________________________________\n",
      "dense_28 (Dense)             (None, 1000)              1000000   \n",
      "_________________________________________________________________\n",
      "dense_29 (Dense)             (None, 1000)              1000000   \n",
      "_________________________________________________________________\n",
      "dense_30 (Dense)             (None, 1000)              1000000   \n",
      "_________________________________________________________________\n",
      "dense_31 (Dense)             (None, 1000)              1000000   \n",
      "_________________________________________________________________\n",
      "dense_32 (Dense)             (None, 1000)              1000000   \n",
      "_________________________________________________________________\n",
      "dense_33 (Dense)             (None, 1000)              1000000   \n",
      "_________________________________________________________________\n",
      "dense_34 (Dense)             (None, 1000)              1000000   \n",
      "_________________________________________________________________\n",
      "dense_35 (Dense)             (None, 1000)              1000000   \n",
      "_________________________________________________________________\n",
      "dense_36 (Dense)             (None, 500)               500000    \n",
      "_________________________________________________________________\n",
      "dense_37 (Dense)             (None, 200)               100000    \n",
      "_________________________________________________________________\n",
      "dense_38 (Dense)             (None, 10)                2000      \n",
      "=================================================================\n",
      "Total params: 36,386,000\n",
      "Trainable params: 36,386,000\n",
      "Non-trainable params: 0\n",
      "_________________________________________________________________\n"
     ]
    }
   ],
   "source": [
    "model = Sequential()\n",
    "model.add(Dense(1000, input_dim = n_features, activation='relu', use_bias=False))\n",
    "model.add(Dense(1000, activation='relu', use_bias=False))\n",
    "model.add(Dense(1000, activation='relu', use_bias=False))\n",
    "model.add(Dense(1000, activation='relu', use_bias=False))\n",
    "model.add(Dense(1000, activation='relu', use_bias=False))\n",
    "model.add(Dense(1000, activation='relu', use_bias=False))\n",
    "model.add(Dense(1000, activation='relu', use_bias=False))\n",
    "model.add(Dense(1000, activation='relu', use_bias=False))\n",
    "model.add(Dense(1000, activation='relu', use_bias=False))\n",
    "model.add(Dense(1000, activation='relu', use_bias=False))\n",
    "model.add(Dense(1000, activation='relu', use_bias=False))\n",
    "model.add(Dense(1000, activation='relu', use_bias=False))\n",
    "model.add(Dense(1000, activation='relu', use_bias=False))\n",
    "model.add(Dense(1000, activation='relu', use_bias=False))\n",
    "model.add(Dense(1000, activation='relu', use_bias=False))\n",
    "model.add(Dense(1000, activation='relu', use_bias=False))\n",
    "model.add(Dense(1000, activation='relu', use_bias=False))\n",
    "model.add(Dense(1000, activation='relu', use_bias=False))\n",
    "model.add(Dense(1000, activation='relu', use_bias=False))\n",
    "model.add(Dense(1000, activation='relu', use_bias=False))\n",
    "model.add(Dense(1000, activation='relu', use_bias=False))\n",
    "model.add(Dense(1000, activation='relu', use_bias=False))\n",
    "model.add(Dense(1000, activation='relu', use_bias=False))\n",
    "model.add(Dense(1000, activation='relu', use_bias=False))\n",
    "model.add(Dense(1000, activation='relu', use_bias=False))\n",
    "model.add(Dense(1000, activation='relu', use_bias=False))\n",
    "model.add(Dense(1000, activation='relu', use_bias=False))\n",
    "model.add(Dense(1000, activation='relu', use_bias=False))\n",
    "model.add(Dense(1000, activation='relu', use_bias=False))\n",
    "model.add(Dense(1000, activation='relu', use_bias=False))\n",
    "model.add(Dense(1000, activation='relu', use_bias=False))\n",
    "model.add(Dense(1000, activation='relu', use_bias=False))\n",
    "model.add(Dense(1000, activation='relu', use_bias=False))\n",
    "model.add(Dense(1000, activation='relu', use_bias=False))\n",
    "model.add(Dense(1000, activation='relu', use_bias=False))\n",
    "model.add(Dense(1000, activation='relu', use_bias=False))\n",
    "model.add(Dense(500, activation='relu', use_bias=False))\n",
    "model.add(Dense(200, activation='relu', use_bias=False))\n",
    "model.add(Dense(n_classes, activation='softmax', use_bias=False))\n",
    "model.compile(loss='categorical_crossentropy', optimizer=Adam(0.0001), metrics=['accuracy'])\n",
    "\n",
    "model.summary()"
   ]
  },
  {
   "cell_type": "code",
   "execution_count": 10,
   "metadata": {},
   "outputs": [],
   "source": [
    "save_at = \"C:\\\\Users\\\\giorg\\\\Desktop\\\\model\\\\worklofmodel.hdf5\"\n",
    "save_best = ModelCheckpoint (save_at, monitor='val_accuracy', verbose=0, \n",
    "                             save_best_only=True, save_weights_only=False, mode='max')"
   ]
  },
  {
   "cell_type": "code",
   "execution_count": 11,
   "metadata": {},
   "outputs": [],
   "source": [
    "reduce_lr = ReduceLROnPlateau(monitor='val_loss', factor=0.2,\n",
    "                              patience=5, min_lr=0.001)"
   ]
  },
  {
   "cell_type": "raw",
   "metadata": {},
   "source": [
    "earlystop = tf.keras.callbacks.EarlyStopping(monitor='loss', patience=3)"
   ]
  },
  {
   "cell_type": "code",
   "execution_count": null,
   "metadata": {},
   "outputs": [
    {
     "name": "stdout",
     "output_type": "stream",
     "text": [
      "Train on 50000 samples, validate on 10000 samples\n",
      "Epoch 1/30\n",
      "50000/50000 [==============================] - 309s 6ms/sample - loss: 1.6140 - accuracy: 0.1903 - val_loss: 1.5049 - val_accuracy: 0.1919\n",
      "Epoch 2/30\n",
      "50000/50000 [==============================] - 291s 6ms/sample - loss: 1.4640 - accuracy: 0.1999 - val_loss: 1.4467 - val_accuracy: 0.1983\n",
      "Epoch 3/30\n",
      "50000/50000 [==============================] - 286s 6ms/sample - loss: 1.4323 - accuracy: 0.2003 - val_loss: 1.4259 - val_accuracy: 0.1985\n",
      "Epoch 4/30\n",
      "50000/50000 [==============================] - 303s 6ms/sample - loss: 1.4209 - accuracy: 0.2002 - val_loss: 1.4203 - val_accuracy: 0.1915\n",
      "Epoch 5/30\n",
      "50000/50000 [==============================] - 274s 5ms/sample - loss: 1.4052 - accuracy: 0.2010 - val_loss: 1.4784 - val_accuracy: 0.1980\n",
      "Epoch 6/30\n",
      "50000/50000 [==============================] - 270s 5ms/sample - loss: 1.3923 - accuracy: 0.2011 - val_loss: 1.4265 - val_accuracy: 0.1947\n",
      "Epoch 7/30\n",
      "49980/50000 [============================>.] - ETA: 0s - loss: 1.3898 - accuracy: 0.2006"
     ]
    }
   ],
   "source": [
    "history = model.fit( X_train_final, Y_train_final, \n",
    "                    epochs = 30, batch_size = 20, \n",
    "                    callbacks=[reduce_lr], verbose=1, \n",
    "                    validation_data = (X_valid, Y_valid) )\n"
   ]
  },
  {
   "cell_type": "code",
   "execution_count": 31,
   "metadata": {},
   "outputs": [
    {
     "data": {
      "image/png": "[encoded data removed]",
      "text/plain": [
       "<Figure size 432x360 with 1 Axes>"
      ]
     },
     "metadata": {
      "needs_background": "light"
     },
     "output_type": "display_data"
    },
    {
     "data": {
      "image/png": "[encoded data removed]",
      "text/plain": [
       "<Figure size 432x360 with 1 Axes>"
      ]
     },
     "metadata": {
      "needs_background": "light"
     },
     "output_type": "display_data"
    }
   ],
   "source": [
    "plt.figure(figsize=(6, 5))\n",
    "plt.plot(history.history['accuracy'], color='r')\n",
    "plt.plot(history.history['val_accuracy'], color='b')\n",
    "plt.title('Model Accuracy', weight='bold', fontsize=16)\n",
    "plt.ylabel('accuracy', weight='bold', fontsize=14)\n",
    "plt.xlabel('epoch', weight='bold', fontsize=14)\n",
    "plt.ylim(0.5, 1)\n",
    "plt.xticks(weight='bold', fontsize=12)\n",
    "plt.yticks(weight='bold', fontsize=12)\n",
    "plt.legend(['train', 'val'], loc='upper left', prop={'size': 14})\n",
    "plt.grid(color = 'y', linewidth='0.5')\n",
    "plt.show()\n",
    "\n",
    "\n",
    "\n",
    "plt.figure(figsize=(6, 5))\n",
    "plt.plot(history.history['loss'], color='r')\n",
    "plt.plot(history.history['val_loss'], color='b')\n",
    "plt.title('Model Loss', weight='bold', fontsize=16)\n",
    "plt.ylabel('loss', weight='bold', fontsize=14)\n",
    "plt.xlabel('epoch', weight='bold', fontsize=14)\n",
    "plt.ylim(0, 1)\n",
    "plt.xticks(weight='bold', fontsize=12)\n",
    "plt.yticks(weight='bold', fontsize=12)\n",
    "plt.legend(['train', 'val'], loc='upper left', prop={'size': 14})\n",
    "plt.grid(color = 'y', linewidth='0.5')\n",
    "plt.show()"
   ]
  },
  {
   "cell_type": "code",
   "execution_count": 32,
   "metadata": {},
   "outputs": [
    {
     "name": "stdout",
     "output_type": "stream",
     "text": [
      "Start: 2023-04-21 15:16:45.505818\n",
      "Stop: 2023-04-21 15:16:48.559335\n",
      "Accuratezza sul test set: \n",
      "  88.25 %\n"
     ]
    }
   ],
   "source": [
    "from datetime import datetime\n",
    "print(\"Start:\",datetime.utcnow())\n",
    "score = model.evaluate(X_test_norm, Y_test_onehot, verbose=0)\n",
    "print(\"Stop:\",datetime.utcnow())\n",
    "print('Accuratezza sul test set: \\n ', round((score[1]*100), 2), '%')"
   ]
  },
  {
   "cell_type": "code",
   "execution_count": 33,
   "metadata": {},
   "outputs": [
    {
     "data": {
      "image/png": "[encoded data removed]",
      "text/plain": [
       "<Figure size 432x288 with 1 Axes>"
      ]
     },
     "metadata": {
      "needs_background": "light"
     },
     "output_type": "display_data"
    },
    {
     "data": {
      "image/png": "[encoded data removed]",
      "text/plain": [
       "<Figure size 432x288 with 1 Axes>"
      ]
     },
     "metadata": {
      "needs_background": "light"
     },
     "output_type": "display_data"
    },
    {
     "data": {
      "image/png": "[encoded data removed]",
      "text/plain": [
       "<Figure size 432x288 with 1 Axes>"
      ]
     },
     "metadata": {
      "needs_background": "light"
     },
     "output_type": "display_data"
    },
    {
     "data": {
      "image/png": "[encoded data removed]",
      "text/plain": [
       "<Figure size 432x288 with 1 Axes>"
      ]
     },
     "metadata": {
      "needs_background": "light"
     },
     "output_type": "display_data"
    },
    {
     "data": {
      "image/png": "[encoded data removed]",
      "text/plain": [
       "<Figure size 432x288 with 1 Axes>"
      ]
     },
     "metadata": {
      "needs_background": "light"
     },
     "output_type": "display_data"
    }
   ],
   "source": [
    "Y_pred = np.round(model.predict(X_test_norm))\n",
    "\n",
    "np.random.seed(50)\n",
    "for rand_num in np.random.randint(0, len(Y_test_onehot), 5):\n",
    "    plt.figure()\n",
    "    plt.imshow(X_test[rand_num]), plt.axis('off')\n",
    "    if np.where(Y_pred[rand_num] == 1)[0].sum() == np.where(Y_test_onehot[rand_num] == 1)[0].sum():\n",
    "        plt.title(labels_dict[np.where(Y_pred[rand_num] == 1)[0].sum()], color='g')\n",
    "    else :\n",
    "        plt.title(labels_dict[np.where(Y_pred[rand_num] == 1)[0].sum()], color='r')"
   ]
  },
  {
   "cell_type": "code",
   "execution_count": 34,
   "metadata": {},
   "outputs": [
    {
     "data": {
      "text/plain": [
       "[<tensorflow.python.keras.layers.core.Dense at 0x1b05aa3c508>,\n",
       " <tensorflow.python.keras.layers.core.Dense at 0x1b05abfcac8>,\n",
       " <tensorflow.python.keras.layers.core.Dense at 0x1b05aa2f4c8>,\n",
       " <tensorflow.python.keras.layers.core.Dense at 0x1b05aa3cac8>,\n",
       " <tensorflow.python.keras.layers.core.Dense at 0x1b05abead48>]"
      ]
     },
     "execution_count": 34,
     "metadata": {},
     "output_type": "execute_result"
    }
   ],
   "source": [
    "trained_model = load_model(\"C:\\\\Users\\\\giorg\\\\Desktop\\\\model\\\\worklofmodel.hdf5\")\n",
    "trained_model.layers"
   ]
  },
  {
   "cell_type": "code",
   "execution_count": 36,
   "metadata": {},
   "outputs": [
    {
     "data": {
      "text/plain": [
       "[<tensorflow.python.keras.layers.core.Dense at 0x1af148c5688>,\n",
       " <tensorflow.python.keras.layers.core.Dense at 0x1af148ce348>,\n",
       " <tensorflow.python.keras.layers.core.Dense at 0x1af45774fc8>,\n",
       " <tensorflow.python.keras.layers.core.Dense at 0x1af0a0f3c08>,\n",
       " <tensorflow.python.keras.layers.core.Dense at 0x1af148c5a48>,\n",
       " <tensorflow.python.keras.layers.core.Dense at 0x1af467d54c8>,\n",
       " <tensorflow.python.keras.layers.core.Dense at 0x1af467e9308>,\n",
       " <tensorflow.python.keras.layers.core.Dense at 0x1af45748f48>,\n",
       " <tensorflow.python.keras.layers.core.Dense at 0x1af467fce88>,\n",
       " <tensorflow.python.keras.layers.core.Dense at 0x1af467e9808>,\n",
       " <tensorflow.python.keras.layers.core.Dense at 0x1af467ec9c8>,\n",
       " <tensorflow.python.keras.layers.core.Dense at 0x1af4997d2c8>,\n",
       " <tensorflow.python.keras.layers.core.Dense at 0x1af4997d408>,\n",
       " <tensorflow.python.keras.layers.core.Dense at 0x1af4997d108>,\n",
       " <tensorflow.python.keras.layers.core.Dense at 0x1af49991048>,\n",
       " <tensorflow.python.keras.layers.core.Dense at 0x1af499a3408>,\n",
       " <tensorflow.python.keras.layers.core.Dense at 0x1af49980508>,\n",
       " <tensorflow.python.keras.layers.core.Dense at 0x1af499b9588>,\n",
       " <tensorflow.python.keras.layers.core.Dense at 0x1af49980f48>,\n",
       " <tensorflow.python.keras.layers.core.Dense at 0x1af4dc13a48>,\n",
       " <tensorflow.python.keras.layers.core.Dense at 0x1af499d74c8>,\n",
       " <tensorflow.python.keras.layers.core.Dense at 0x1af4dc12548>]"
      ]
     },
     "execution_count": 36,
     "metadata": {},
     "output_type": "execute_result"
    }
   ],
   "source": [
    "trained_model= model\n",
    "trained_model.layers"
   ]
  },
  {
   "cell_type": "code",
   "execution_count": 37,
   "metadata": {},
   "outputs": [
    {
     "name": "stdout",
     "output_type": "stream",
     "text": [
      "22\n"
     ]
    }
   ],
   "source": [
    "total_no_layers = len(trained_model.layers)\n",
    "print(total_no_layers)"
   ]
  },
  {
   "cell_type": "raw",
   "metadata": {},
   "source": [
    "K = list(range(1,101))\n",
    "print(K)"
   ]
  },
  {
   "cell_type": "code",
   "execution_count": 38,
   "metadata": {},
   "outputs": [],
   "source": [
    "K = [0,10,20,30,40,50,60,70,80,90] "
   ]
  },
  {
   "cell_type": "code",
   "execution_count": 41,
   "metadata": {},
   "outputs": [
    {
     "name": "stdout",
     "output_type": "stream",
     "text": [
      "Start: 2023-04-21 15:23:44.442662\n",
      "Stop: 2023-04-21 15:24:18.698044\n"
     ]
    }
   ],
   "source": [
    "from datetime import datetime\n",
    "print(\"Start:\",datetime.utcnow())\n",
    "all_weights = {}\n",
    "\n",
    "for layer_no in range(total_no_layers - 1):         #tutti tranne l'ultimo layer                                                                          \n",
    "    layer_weights = (pd.DataFrame(trained_model.layers[layer_no].get_weights()[0]).stack()).to_dict() \n",
    "    layer_weights = { (layer_no, k[0], k[1]): v for k, v in layer_weights.items() }\n",
    "    all_weights.update(layer_weights)\n",
    "print(\"Stop:\",datetime.utcnow())"
   ]
  },
  {
   "cell_type": "code",
   "execution_count": 42,
   "metadata": {},
   "outputs": [
    {
     "name": "stdout",
     "output_type": "stream",
     "text": [
      "Start: 2023-04-21 15:24:53.615612\n",
      "Stop: 2023-04-21 15:25:45.680554\n"
     ]
    }
   ],
   "source": [
    "from datetime import datetime\n",
    "print(\"Start:\",datetime.utcnow())\n",
    "all_weights_sorted = {k: v for k, v in sorted(all_weights.items(), key=lambda item: abs(item[1]))}\n",
    "print(\"Stop:\",datetime.utcnow())"
   ]
  },
  {
   "cell_type": "code",
   "execution_count": 44,
   "metadata": {},
   "outputs": [
    {
     "name": "stdout",
     "output_type": "stream",
     "text": [
      "Start: 2023-04-21 15:27:58.782935\n",
      "INFO:tensorflow:Assets written to: C:\\Users\\giorg\\Desktop\\worklof\\Nuova cartella\\assets\n",
      "0 [0.7609334287881852, 0.8825]\n",
      "INFO:tensorflow:Assets written to: C:\\Users\\giorg\\Desktop\\worklof\\Nuova cartella\\assets\n",
      "10 [0.7568275616645813, 0.8817]\n",
      "INFO:tensorflow:Assets written to: C:\\Users\\giorg\\Desktop\\worklof\\Nuova cartella\\assets\n",
      "20 [0.7241888987779618, 0.8822]\n",
      "INFO:tensorflow:Assets written to: C:\\Users\\giorg\\Desktop\\worklof\\Nuova cartella\\assets\n",
      "30 [0.6522007122516632, 0.8808]\n",
      "INFO:tensorflow:Assets written to: C:\\Users\\giorg\\Desktop\\worklof\\Nuova cartella\\assets\n",
      "40 [0.5380088230848312, 0.8838]\n",
      "INFO:tensorflow:Assets written to: C:\\Users\\giorg\\Desktop\\worklof\\Nuova cartella\\assets\n",
      "50 [0.48579493832588194, 0.8826]\n",
      "INFO:tensorflow:Assets written to: C:\\Users\\giorg\\Desktop\\worklof\\Nuova cartella\\assets\n",
      "60 [0.5752844501018524, 0.884]\n",
      "INFO:tensorflow:Assets written to: C:\\Users\\giorg\\Desktop\\worklof\\Nuova cartella\\assets\n",
      "70 [0.985593326473236, 0.8806]\n",
      "INFO:tensorflow:Assets written to: C:\\Users\\giorg\\Desktop\\worklof\\Nuova cartella\\assets\n",
      "80 [1.8947208076477051, 0.6634]\n",
      "INFO:tensorflow:Assets written to: C:\\Users\\giorg\\Desktop\\worklof\\Nuova cartella\\assets\n",
      "90 [2.303046908569336, 0.2627]\n",
      "Stop: 2023-04-21 15:31:21.996160\n"
     ]
    }
   ],
   "source": [
    "from datetime import datetime\n",
    "print(\"Start:\",datetime.utcnow())\n",
    "weight_pruning_scores = []\n",
    "total_no_weights = len(all_weights_sorted) \n",
    "total_no_weights \n",
    "for pruning_percent in K:\n",
    "    \n",
    "    #new_model = load_model(\"C:\\\\Users\\\\giorg\\\\Desktop\\\\worklofmodel.hdf5\")\n",
    "    new_model=model\n",
    "    new_weights = trained_model.get_weights().copy()\n",
    "\n",
    "    prune_fraction = pruning_percent/100\n",
    "    number_of_weights_to_be_pruned = int(prune_fraction*total_no_weights)\n",
    "    weights_to_be_pruned = {k: all_weights_sorted[k] for k in list(all_weights_sorted)[ :  number_of_weights_to_be_pruned]}     \n",
    "\n",
    "    for k, v in weights_to_be_pruned.items():\n",
    "        new_weights[k[0]][k[1], k[2]] = 0\n",
    "\n",
    "    for layer_no in range(total_no_layers - 1) :\n",
    "        new_layer_weights = new_weights[layer_no].reshape(1, new_weights[layer_no].shape[0], new_weights[layer_no].shape[1])\n",
    "        new_model.layers[layer_no].set_weights(new_layer_weights)\n",
    "    \n",
    "    new_score  = new_model.evaluate(X_test_norm, Y_test_onehot, verbose=0)\n",
    "    weight_pruning_scores .append(new_score[1])\n",
    "    new_model.save(\"C:\\\\Users\\\\giorg\\\\Desktop\\\\worklof\\\\Nuova cartella\")\n",
    "    \n",
    "    print(pruning_percent, new_score)\n",
    "print(\"Stop:\",datetime.utcnow())"
   ]
  },
  {
   "cell_type": "code",
   "execution_count": 45,
   "metadata": {},
   "outputs": [
    {
     "data": {
      "image/png": "[encoded data removed]",
      "text/plain": [
       "<Figure size 576x288 with 1 Axes>"
      ]
     },
     "metadata": {
      "needs_background": "light"
     },
     "output_type": "display_data"
    }
   ],
   "source": [
    "plt.figure(figsize=(8, 4))\n",
    "plt.plot(pd.DataFrame(weight_pruning_scores).set_index(pd.Series(K), drop=True) , color='r')\n",
    "#plt.plot(pd.DataFrame(neuron_pruning_scores).set_index(pd.Series(K), drop=True) , color='b')\n",
    "plt.title('Effetti del pruning su accuratezza', weight='bold', fontsize=16)\n",
    "plt.ylabel('Accuracy', weight='bold', fontsize=14)\n",
    "plt.xlabel('Pruning Factor (K)', weight='bold', fontsize=14)\n",
    "plt.xticks(weight='bold', fontsize=12)\n",
    "plt.yticks(weight='bold', fontsize=12)\n",
    "plt.legend(['Magnitude Weight Pruning'], loc='best', prop={'size': 14})\n",
    "plt.grid(color = 'y', linewidth='0.5')\n",
    "plt.show()"
   ]
  },
  {
   "cell_type": "code",
   "execution_count": null,
   "metadata": {},
   "outputs": [],
   "source": []
  }
 ],
 "metadata": {
  "kernelspec": {
   "display_name": "Python 3",
   "language": "python",
   "name": "python3"
  },
  "language_info": {
   "codemirror_mode": {
    "name": "ipython",
    "version": 3
   },
   "file_extension": ".py",
   "mimetype": "text/x-python",
   "name": "python",
   "nbconvert_exporter": "python",
   "pygments_lexer": "ipython3",
   "version": "3.7.4"
  }
 },
 "nbformat": 4,
 "nbformat_minor": 4
}
